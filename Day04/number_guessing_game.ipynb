{
 "cells": [
  {
   "cell_type": "code",
   "execution_count": 1,
   "id": "24738f8a-5fd8-4a80-86e2-2c53147d4ac3",
   "metadata": {},
   "outputs": [
    {
     "name": "stdout",
     "output_type": "stream",
     "text": [
      "Welcome to the Number Guessing Game!\n",
      "\n",
      "I have thought of a number between 1 and 20. Try to guess it!\n"
     ]
    },
    {
     "name": "stdin",
     "output_type": "stream",
     "text": [
      "Enter your guess (or 'x' to exit, 'n' for a new game, 's' to show the number):  6\n"
     ]
    },
    {
     "name": "stdout",
     "output_type": "stream",
     "text": [
      "Too small!\n"
     ]
    },
    {
     "name": "stdin",
     "output_type": "stream",
     "text": [
      "Enter your guess (or 'x' to exit, 'n' for a new game, 's' to show the number):  8\n"
     ]
    },
    {
     "name": "stdout",
     "output_type": "stream",
     "text": [
      "Too small!\n"
     ]
    },
    {
     "name": "stdin",
     "output_type": "stream",
     "text": [
      "Enter your guess (or 'x' to exit, 'n' for a new game, 's' to show the number):  9\n"
     ]
    },
    {
     "name": "stdout",
     "output_type": "stream",
     "text": [
      "Too small!\n"
     ]
    },
    {
     "name": "stdin",
     "output_type": "stream",
     "text": [
      "Enter your guess (or 'x' to exit, 'n' for a new game, 's' to show the number):  15\n"
     ]
    },
    {
     "name": "stdout",
     "output_type": "stream",
     "text": [
      "Too small!\n"
     ]
    },
    {
     "name": "stdin",
     "output_type": "stream",
     "text": [
      "Enter your guess (or 'x' to exit, 'n' for a new game, 's' to show the number):  18\n"
     ]
    },
    {
     "name": "stdout",
     "output_type": "stream",
     "text": [
      "Too small!\n"
     ]
    },
    {
     "name": "stdin",
     "output_type": "stream",
     "text": [
      "Enter your guess (or 'x' to exit, 'n' for a new game, 's' to show the number):  20\n"
     ]
    },
    {
     "name": "stdout",
     "output_type": "stream",
     "text": [
      "Correct! You guessed the number in 6 tries.\n"
     ]
    },
    {
     "name": "stdin",
     "output_type": "stream",
     "text": [
      "\n",
      "Do you want to play again? (yes/no):  no\n"
     ]
    },
    {
     "name": "stdout",
     "output_type": "stream",
     "text": [
      "Thanks for playing! Goodbye!\n"
     ]
    }
   ],
   "source": [
    "import random\n",
    "\n",
    "def main():\n",
    "    print(\"Welcome to the Number Guessing Game!\")\n",
    "    while True:\n",
    "        play_game()\n",
    "        if not ask_to_play_again():\n",
    "            print(\"Thanks for playing! Goodbye!\")\n",
    "            break\n",
    "\n",
    "def play_game():\n",
    "    secret_number = random.randint(1, 20)\n",
    "    guesses = 0\n",
    "    print(\"\\nI have thought of a number between 1 and 20. Try to guess it!\")\n",
    "\n",
    "    while True:\n",
    "        user_input = input(\"Enter your guess (or 'x' to exit, 'n' for a new game, 's' to show the number): \").strip().lower()\n",
    "\n",
    "        if user_input == 'x':\n",
    "            print(\"Exiting the program.\")\n",
    "            exit()\n",
    "        elif user_input == 'n':\n",
    "            print(\"Starting a new game.\")\n",
    "            return\n",
    "        elif user_input == 's':\n",
    "            print(f\"The secret number is: {secret_number}\")\n",
    "            continue\n",
    "\n",
    "        try:\n",
    "            guess = int(user_input)\n",
    "        except ValueError:\n",
    "            print(\"Invalid input. Please enter a whole number, 'x', 'n', or 's'.\")\n",
    "            continue\n",
    "\n",
    "        guesses += 1\n",
    "        if guess < secret_number:\n",
    "            print(\"Too small!\")\n",
    "        elif guess > secret_number:\n",
    "            print(\"Too big!\")\n",
    "        else:\n",
    "            print(f\"Correct! You guessed the number in {guesses} tries.\")\n",
    "            return\n",
    "\n",
    "def ask_to_play_again():\n",
    "    while True:\n",
    "        user_input = input(\"\\nDo you want to play again? (yes/no): \").strip().lower()\n",
    "        if user_input in ['yes', 'y']:\n",
    "            return True\n",
    "        elif user_input in ['no', 'n']:\n",
    "            return False\n",
    "        else:\n",
    "            print(\"Invalid input. Please enter 'yes' or 'no'.\")\n",
    "\n",
    "if __name__ == \"__main__\":\n",
    "    main()\n"
   ]
  },
  {
   "cell_type": "code",
   "execution_count": null,
   "id": "53dd0866-0e16-41c3-b028-af709a5d3efc",
   "metadata": {},
   "outputs": [],
   "source": []
  }
 ],
 "metadata": {
  "kernelspec": {
   "display_name": "Python 3 (ipykernel)",
   "language": "python",
   "name": "python3"
  },
  "language_info": {
   "codemirror_mode": {
    "name": "ipython",
    "version": 3
   },
   "file_extension": ".py",
   "mimetype": "text/x-python",
   "name": "python",
   "nbconvert_exporter": "python",
   "pygments_lexer": "ipython3",
   "version": "3.13.0"
  }
 },
 "nbformat": 4,
 "nbformat_minor": 5
}
