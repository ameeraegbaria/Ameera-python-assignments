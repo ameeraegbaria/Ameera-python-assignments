{
 "cells": [
  {
   "cell_type": "code",
   "execution_count": 1,
   "id": "18cdfa2b-c8c3-4a22-9f54-0e2bbaade465",
   "metadata": {},
   "outputs": [],
   "source": [
    "# Define variables for the rectangle and circle\n",
    "width = 10     \n",
    "length = 20   \n",
    "radius = 7    \n"
   ]
  },
  {
   "cell_type": "code",
   "execution_count": 2,
   "id": "63a7b9dc-18cb-4af7-8d16-8343ed6af446",
   "metadata": {},
   "outputs": [
    {
     "name": "stdout",
     "output_type": "stream",
     "text": [
      "Rectangle:\n",
      " - Area: 200\n",
      " - Circumference: 60\n"
     ]
    }
   ],
   "source": [
    "# Calculate the area and circumference of the rectangle\n",
    "rectangle_area = width * length\n",
    "rectangle_circumference = 2 * (width + length)\n",
    "\n",
    "# Print results for the rectangle\n",
    "print(\"Rectangle:\")\n",
    "print(\" - Area:\", rectangle_area)\n",
    "print(\" - Circumference:\", rectangle_circumference)\n"
   ]
  },
  {
   "cell_type": "code",
   "execution_count": 3,
   "id": "e834c567-8881-41bc-b04e-9d15ee5e0665",
   "metadata": {},
   "outputs": [
    {
     "name": "stdout",
     "output_type": "stream",
     "text": [
      "Circle:\n",
      " - Area: 153.93804002589985\n",
      " - Circumference: 43.982297150257104\n"
     ]
    }
   ],
   "source": [
    "import math\n",
    "\n",
    "# Calculate the area and circumference of the circle\n",
    "circle_area = math.pi * radius ** 2\n",
    "circle_circumference = 2 * math.pi * radius\n",
    "\n",
    "# Print results for the circle\n",
    "print(\"Circle:\")\n",
    "print(\" - Area:\", circle_area)\n",
    "print(\" - Circumference:\", circle_circumference)\n"
   ]
  },
  {
   "cell_type": "code",
   "execution_count": null,
   "id": "21b525ec-221b-48f8-aa40-9a37a797b9a8",
   "metadata": {},
   "outputs": [],
   "source": []
  }
 ],
 "metadata": {
  "kernelspec": {
   "display_name": "Python 3 (ipykernel)",
   "language": "python",
   "name": "python3"
  },
  "language_info": {
   "codemirror_mode": {
    "name": "ipython",
    "version": 3
   },
   "file_extension": ".py",
   "mimetype": "text/x-python",
   "name": "python",
   "nbconvert_exporter": "python",
   "pygments_lexer": "ipython3",
   "version": "3.13.0"
  }
 },
 "nbformat": 4,
 "nbformat_minor": 5
}
