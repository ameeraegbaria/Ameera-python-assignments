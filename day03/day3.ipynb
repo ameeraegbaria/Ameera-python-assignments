{
 "cells": [
  {
   "cell_type": "code",
   "execution_count": 1,
   "id": "6c48f751-55f4-4132-8c9f-ace757b8113a",
   "metadata": {},
   "outputs": [
    {
     "name": "stdin",
     "output_type": "stream",
     "text": [
      "Enter the width of the rectangle:  10\n",
      "Enter the length of the rectangle:  20\n",
      "Enter the radius of the circle:  5\n"
     ]
    },
    {
     "name": "stdout",
     "output_type": "stream",
     "text": [
      "Rectangle:\n",
      " - Area: 200.0\n",
      " - Circumference: 60.0\n",
      "Circle:\n",
      " - Area: 78.53981633974483\n",
      " - Circumference: 31.41592653589793\n"
     ]
    }
   ],
   "source": [
    "#day3.ipynb\n",
    "\n",
    "# Get user input for the rectangle dimensions\n",
    "width = float(input(\"Enter the width of the rectangle: \"))\n",
    "length = float(input(\"Enter the length of the rectangle: \"))\n",
    "\n",
    "# Get user input for the circle radius\n",
    "radius = float(input(\"Enter the radius of the circle: \"))\n",
    "\n",
    "# Calculate the area and circumference of the rectangle\n",
    "rectangle_area = width * length\n",
    "rectangle_circumference = 2 * (width + length)\n",
    "\n",
    "# Print results for the rectangle\n",
    "print(\"Rectangle:\")\n",
    "print(\" - Area:\", rectangle_area)\n",
    "print(\" - Circumference:\", rectangle_circumference)\n",
    "\n",
    "import math\n",
    "\n",
    "# Calculate the area and circumference of the circle\n",
    "circle_area = math.pi * radius ** 2\n",
    "circle_circumference = 2 * math.pi * radius\n",
    "\n",
    "# Print results for the circle\n",
    "print(\"Circle:\")\n",
    "print(\" - Area:\", circle_area)\n",
    "print(\" - Circumference:\", circle_circumference)"
   ]
  }
 ],
 "metadata": {
  "kernelspec": {
   "display_name": "Python 3 (ipykernel)",
   "language": "python",
   "name": "python3"
  },
  "language_info": {
   "codemirror_mode": {
    "name": "ipython",
    "version": 3
   },
   "file_extension": ".py",
   "mimetype": "text/x-python",
   "name": "python",
   "nbconvert_exporter": "python",
   "pygments_lexer": "ipython3",
   "version": "3.13.0"
  }
 },
 "nbformat": 4,
 "nbformat_minor": 5
}
