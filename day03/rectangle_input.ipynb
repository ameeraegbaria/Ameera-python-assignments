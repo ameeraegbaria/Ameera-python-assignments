{
 "cells": [
  {
   "cell_type": "code",
   "execution_count": 1,
   "id": "4b5ce6ba-e669-43b4-8cc2-e336b2b9f3e5",
   "metadata": {},
   "outputs": [
    {
     "name": "stdin",
     "output_type": "stream",
     "text": [
      "Enter the width of the rectangle:  10\n",
      "Enter the length of the rectangle:  20\n"
     ]
    },
    {
     "name": "stdout",
     "output_type": "stream",
     "text": [
      "The area of the rectangle is: 200.0\n",
      "The circumference of the rectangle is: 60.0\n"
     ]
    }
   ],
   "source": [
    "# rectangle_input.py\n",
    "\n",
    "# Prompt the user to enter the width and length of the rectangle\n",
    "width = float(input(\"Enter the width of the rectangle: \"))\n",
    "length = float(input(\"Enter the length of the rectangle: \"))\n",
    "\n",
    "# Calculate the area\n",
    "area = width * length\n",
    "\n",
    "# Calculate the circumference\n",
    "circumference = 2 * (width + length)\n",
    "\n",
    "# Print out the results\n",
    "print(\"The area of the rectangle is:\", area)\n",
    "print(\"The circumference of the rectangle is:\", circumference)\n"
   ]
  }
 ],
 "metadata": {
  "kernelspec": {
   "display_name": "Python 3 (ipykernel)",
   "language": "python",
   "name": "python3"
  },
  "language_info": {
   "codemirror_mode": {
    "name": "ipython",
    "version": 3
   },
   "file_extension": ".py",
   "mimetype": "text/x-python",
   "name": "python",
   "nbconvert_exporter": "python",
   "pygments_lexer": "ipython3",
   "version": "3.13.0"
  }
 },
 "nbformat": 4,
 "nbformat_minor": 5
}
